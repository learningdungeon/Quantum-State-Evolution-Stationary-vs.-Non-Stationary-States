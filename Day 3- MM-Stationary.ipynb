# Import necessary libraries from Qiskit and other modules
from qiskit import QuantumCircuit
from qiskit_aer import AerSimulator
from qiskit.quantum_info import Statevector
import numpy as np
import matplotlib.pyplot as plt

# --- Part 1: Simulating a Stationary State ---
# A stationary state is an eigenstate of the Hamiltonian.
# We use the Pauli-Z operator as our Hamiltonian. Its eigenstates are |0> and |1>.
# The initial state of a new qubit is |0>, which is a stationary state.

print("--- Simulating a Stationary State ---")
print("Initial state is |0>, which is an eigenstate of the Pauli-Z Hamiltonian.")

# Use the AerSimulator
simulator = AerSimulator()

# We will simulate time by applying the Hamiltonian's time evolution operator repeatedly.
time_step = 0.5
num_steps = 10

# List to store the probabilities at each time step
state_vectors_stationary = []
qc_stationary_base = QuantumCircuit(1)

# Simulating the time evolution
print(f"Simulating for {num_steps} steps with t = {time_step}...")
for _ in range(num_steps):
    qc_stationary = qc_stationary_base.copy()
    # Apply the time evolution gate
    qc_stationary.rz(2 * time_step, 0)
    
    # --- THIS IS THE CRUCIAL LINE ---
    # We must explicitly tell the simulator to save the statevector
    qc_stationary.save_statevector()
    
    # Run the circuit on the simulator
    job = simulator.run(qc_stationary)
    result = job.result()
    statevector = result.get_statevector()
    
    # Store the probabilities of measuring |0> and |1>
    prob_0 = np.abs(statevector[0])**2
    prob_1 = np.abs(statevector[1])**2
    state_vectors_stationary.append((prob_0, prob_1))
    
    # To continue the evolution, we must update the base circuit
    qc_stationary_base = qc_stationary_base.copy()
    qc_stationary_base.rz(2 * time_step, 0)

# Print the results
print("\nProbabilities of measuring |0> and |1> over time:")
for i, (p0, p1) in enumerate(state_vectors_stationary):
    print(f"Time Step {i+1}: P(|0>) = {p0:.4f}, P(|1>) = {p1:.4f}")

# --- Part 2: Simulating a Non-Stationary State ---
# A non-stationary state is not an eigenstate of the Hamiltonian.
# We will create a superposition state |+> using a Hadamard gate.

print("\n\n--- Simulating a Non-Stationary State ---")
print("Initial state is |+>, a superposition of |0> and |1>.")

# Create a new quantum circuit for the base of the evolution
qc_non_stationary_base = QuantumCircuit(1)
qc_non_stationary_base.h(0)

# Simulate the time evolution with the same Hamiltonian
print(f"Simulating for {num_steps} steps with t = {time_step}...")
state_vectors_non_stationary = []
for _ in range(num_steps):
    qc_non_stationary = qc_non_stationary_base.copy()
    # Apply the time evolution gate
    qc_non_stationary.rz(2 * time_step, 0)
    
    # --- THIS IS THE CRUCIAL LINE ---
    qc_non_stationary.save_statevector()
    
    # Run the circuit on the simulator
    job = simulator.run(qc_non_stationary)
    result = job.result()
    statevector = result.get_statevector()
    
    # Store the probabilities of measuring |0> and |1>
    prob_0 = np.abs(statevector[0])**2
    prob_1 = np.abs(statevector[1])**2
    state_vectors_non_stationary.append((prob_0, prob_1))
    
    # To continue the evolution, we must update the base circuit
    qc_non_stationary_base = qc_non_stationary_base.copy()
    qc_non_stationary_base.rz(2 * time_step, 0)

# Print the results
print("\nProbabilities of measuring |0> and |1> over time:")
for i, (p0, p1) in enumerate(state_vectors_non_stationary):
    print(f"Time Step {i+1}: P(|0>) = {p0:.4f}, P(|1>) = {p1:.4f}")

# --- Part 3: Visualization (Recommended for Portfolio) ---
# Plot the change in probabilities over time to visualize the difference.
times = np.arange(1, num_steps + 1)
probs_stationary = np.array(state_vectors_stationary)
probs_non_stationary = np.array(state_vectors_non_stationary)

plt.figure(figsize=(12, 6))

plt.subplot(1, 2, 1)
plt.plot(times, probs_stationary[:, 0], 'o-', label='P(|0>)')
plt.plot(times, probs_stationary[:, 1], 'o-', label='P(|1>)')
plt.title('Probabilities for a Stationary State ($|0>$)')
plt.xlabel('Time Steps')
plt.ylabel('Probability')
plt.legend()
plt.ylim(-0.05, 1.05)
plt.grid(True)

plt.subplot(1, 2, 2)
plt.plot(times, probs_non_stationary[:, 0], 'o-', label='P(|0>)')
plt.plot(times, probs_non_stationary[:, 1], 'o-', label='P(|1>)')
plt.title('Probabilities for a Non-Stationary State ($|+>$)')
plt.xlabel('Time Steps')
plt.ylabel('Probability')
plt.legend()
plt.ylim(-0.05, 1.05)
plt.grid(True)

plt.tight_layout()
plt.show()

print("\n--- Project Complete ---")

